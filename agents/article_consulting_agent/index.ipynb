{
 "cells": [
  {
   "cell_type": "code",
   "execution_count": 1,
   "id": "26c8f04f",
   "metadata": {},
   "outputs": [],
   "source": [
    "from llama_index.core import Settings\n",
    "from llama_index.llms.groq import Groq"
   ]
  },
  {
   "cell_type": "code",
   "execution_count": 18,
   "id": "521df115",
   "metadata": {},
   "outputs": [],
   "source": [
    "import os\n",
    "from dotenv import load_dotenv\n",
    "\n",
    "load_dotenv()\n",
    "\n",
    "llm = Groq(\n",
    "    model=\"llama-3.3-70b-versatile\",\n",
    "    api_key=os.environ.get(\"GROQ_API_KEY\")    \n",
    ")"
   ]
  },
  {
   "cell_type": "markdown",
   "id": "60f82f2c",
   "metadata": {},
   "source": [
    "### Setting tools"
   ]
  },
  {
   "cell_type": "code",
   "execution_count": 10,
   "id": "69c278bd",
   "metadata": {},
   "outputs": [],
   "source": [
    "from llama_index.core.tools import FunctionTool\n",
    "from llama_index.core.agent import FunctionCallingAgentWorker, AgentRunner"
   ]
  },
  {
   "cell_type": "code",
   "execution_count": null,
   "id": "6088600c",
   "metadata": {},
   "outputs": [],
   "source": [
    "import arxiv # arxiv.org (archive of articles)\n",
    "\n",
    "def article_search(title: str):\n",
    "    search = arxiv.Search(\n",
    "        query=title,\n",
    "        max_results=5,\n",
    "        sort_by=arxiv.SortCriterion.Relevance\n",
    "    )\n",
    "\n",
    "    results = [\n",
    "        f\"Title: {article.title}\\n\"\n",
    "        f\"Category: {article.primary_category}\\n\"\n",
    "        f\"Link: {article.entry_id}\\n\"\n",
    "        for article in search.results()\n",
    "    ]\n",
    "\n",
    "    return f\"\\n\\n\".join(results)"
   ]
  },
  {
   "cell_type": "code",
   "execution_count": 5,
   "id": "11a108a6",
   "metadata": {},
   "outputs": [],
   "source": [
    "article_search_tool = FunctionTool.from_defaults(fn=article_search)"
   ]
  },
  {
   "cell_type": "code",
   "execution_count": 8,
   "id": "d3dda472",
   "metadata": {},
   "outputs": [],
   "source": [
    "agent_worker = FunctionCallingAgentWorker.from_tools(\n",
    "    tools=[article_search_tool],\n",
    "    verbose=True,\n",
    "    allow_parallel_tool_calls=False,\n",
    "    llm=llm\n",
    ")"
   ]
  },
  {
   "cell_type": "code",
   "execution_count": null,
   "id": "8e26ee44",
   "metadata": {},
   "outputs": [],
   "source": [
    "agent = AgentRunner(agent_worker)\n",
    "\n",
    "response = agent.chat(\n",
    "    \"Me retorne artigos sobre langchain na educação\"\n",
    ")"
   ]
  },
  {
   "cell_type": "markdown",
   "id": "f93191f9",
   "metadata": {},
   "source": [
    "### With Tavily"
   ]
  },
  {
   "cell_type": "code",
   "execution_count": 20,
   "id": "69a74d20",
   "metadata": {},
   "outputs": [],
   "source": [
    "from llama_index.tools.tavily_research import TavilyToolSpec\n",
    "\n",
    "tavily_tool = TavilyToolSpec(\n",
    "    api_key=os.environ.get(\"TAVILY_API_KEY\")\n",
    ")"
   ]
  },
  {
   "cell_type": "code",
   "execution_count": 21,
   "id": "143f8eca",
   "metadata": {},
   "outputs": [
    {
     "name": "stdout",
     "output_type": "stream",
     "text": [
      "search\n"
     ]
    }
   ],
   "source": [
    "tavily_tool_list = tavily_tool.to_tool_list()\n",
    "\n",
    "for tool in tavily_tool_list:\n",
    "    print(tool.metadata.name)"
   ]
  },
  {
   "cell_type": "code",
   "execution_count": 22,
   "id": "d8246cd3",
   "metadata": {},
   "outputs": [
    {
     "data": {
      "text/plain": [
       "[Document(id_='d7a8999c-e23b-41d8-bbd7-e1c50a6fb00a', embedding=None, metadata={'url': 'https://medium.com/fretebras-tech/langchain-construindo-um-chatpdf-com-rag-retrieval-augmented-generation-openai-e-streamlit-61125e2122de'}, excluded_embed_metadata_keys=[], excluded_llm_metadata_keys=[], relationships={}, metadata_template='{key}: {value}', metadata_separator='\\n', text_resource=MediaResource(embeddings=None, data=None, text='Por conta desses acontecimentos, fiquei por um tempo afastado dos meus estudos. Mas por meio desse artigo compartilho meu retorno e comprometimento com os estudos, que sempre gosto de compartilhar por aqui, por meio de artigos, um pouco sobre eles.\\n\\nObrigado pela sua atenção! E até breve 😄\\n\\n--\\n\\n--\\n\\n1\\n\\nPublished in Fretebras Tech [...] LangChain é uma biblioteca open-source que tem como objetivo facilitar a criação de aplicações utilizando LLMs, ou seja, modelos de linguagem.\\n\\nDessa forma, o LangChain disponibiliza diversos tipos de componentes e funcionalidades que facilitam desde a importação de diversos tipos de documentos e dados, criação e reutilização de templates de promtps, simplificar o uso e conexão com uma ou várias LLMs (Como ChatGPT, BERT, Llama, etc). [...] Quem nunca precisou responder a uma dúvida que estava em um dos muitos PDFs na pasta de Downloads, e teve que abrir cada um deles e procurar por palavras-chave?\\n\\nNeste artigo, vamos explorar a criação de um ChatPDF utilizando LangChain com a técnica de RAG (Retrieval-Augmented Generation), OpenAI e Streamlit. O texto detalha os conceitos do LangChain e a técnica de RAG, aplicando-os de maneira prática.\\n\\nLangChain', path=None, url=None, mimetype=None), image_resource=None, audio_resource=None, video_resource=None, text_template='{metadata_str}\\n\\n{content}'),\n",
       " Document(id_='1a9fd0d0-7f51-4c8f-a4b5-2db19df94aa1', embedding=None, metadata={'url': 'https://www.youtube.com/watch?v=seei7UaVtA4'}, excluded_embed_metadata_keys=[], excluded_llm_metadata_keys=[], relationships={}, metadata_template='{key}: {value}', metadata_separator='\\n', text_resource=MediaResource(embeddings=None, data=None, text=\"This month's OpenAI meetup, held on August 27, 2024, featured a discussion led by Michael Pehel. Mike explores how AI tools like ChatGPT and LangChain can streamline content creation, particularly for generating tutorials from YouTube videos and GitHub repositories. Michael demonstrated a method that reduces manual content creation efforts by leveraging AI to handle transcription, topic generation, and code extraction, while addressing challenges like hallucinations and overconfident errors. [...] The session emphasized the importance of careful prompt engineering and selecting the right AI models for specific tasks. [...] Turn Videos into Articles with OpenAI and LangChain \\n Riis LLC \\n 7 likes \\n 121 views \\n 29 Aug 2024\", path=None, url=None, mimetype=None), image_resource=None, audio_resource=None, video_resource=None, text_template='{metadata_str}\\n\\n{content}'),\n",
       " Document(id_='6c59d625-c8e8-41c6-97e7-6e34220b0cc5', embedding=None, metadata={'url': 'https://www.langchain.com/'}, excluded_embed_metadata_keys=[], excluded_llm_metadata_keys=[], relationships={}, metadata_template='{key}: {value}', metadata_separator='\\n', text_resource=MediaResource(embeddings=None, data=None, text='[Resources Hub](/resources)[Blog](https://blog.langchain.dev/)[Customer Stories](/customers)[LangChain Academy](https://academy.langchain.com/)[Community](/community)[Experts](/experts)[Changelog](https://changelog.langchain.com/)\\n\\nDocs\\n\\nPython\\n\\n[LangGraph](https://langchain-ai.github.io/langgraph/tutorials/introduction/)[LangSmith](https://docs.smith.langchain.com/)[LangChain](https://python.langchain.com/docs/introduction/)\\n\\nJavaScript [...] [Resources Hub](/resources)[Blog](https://blog.langchain.dev/)[Customer Stories](/customers)[LangChain Academy](https://academy.langchain.com/)[Community](/community)[Experts](/experts)[Changelog](https://changelog.langchain.com/)\\n\\nDocs\\n\\nPython\\n\\n[LangGraph](https://langchain-ai.github.io/langgraph/tutorials/introduction/)[LangSmith](https://docs.smith.langchain.com/)[LangChain](https://python.langchain.com/docs/introduction/)\\n\\nJavaScript [...] ![](https://cdn.prod.website-files.com/65b8cd72835ceeacd4449a53/6723aa76cc7a8e249bd43edf_LIGHT%20BACKGROUND%20-%2031.10.2024%20-%20stack%20diagram.webp)![](https://cdn.prod.website-files.com/65b8cd72835ceeacd4449a53/667d392696fc0bc3e17a6d04_New%20LC%20stack%20-%20light-2.webp)\\n\\n20M+\\n\\nMonthly Downloads\\n\\n100K+\\n\\nApps Powered\\n\\n100K+\\n\\nGitHub Stars\\n\\n4K+\\n\\nContributors\\n\\n## The biggest developer community in GenAI\\n\\nLearn alongside the 1M+ developers who are pushing the industry forward.', path=None, url=None, mimetype=None), image_resource=None, audio_resource=None, video_resource=None, text_template='{metadata_str}\\n\\n{content}')]"
      ]
     },
     "execution_count": 22,
     "metadata": {},
     "output_type": "execute_result"
    }
   ],
   "source": [
    "tavily_tool.search(\"Me retorne artigos cientificos sobre LangChain\", max_results=3)"
   ]
  },
  {
   "cell_type": "code",
   "execution_count": null,
   "id": "370c3049",
   "metadata": {},
   "outputs": [],
   "source": [
    "tavily_tool_function = FunctionTool.from_defaults(\n",
    "    fn=tavily_tool.search,\n",
    "    name=\"Tavily search\",\n",
    "    description=\"Busca artigos com Tavily sobre um determinado tópico\"\n",
    ")"
   ]
  }
 ],
 "metadata": {
  "kernelspec": {
   "display_name": "venv",
   "language": "python",
   "name": "python3"
  },
  "language_info": {
   "codemirror_mode": {
    "name": "ipython",
    "version": 3
   },
   "file_extension": ".py",
   "mimetype": "text/x-python",
   "name": "python",
   "nbconvert_exporter": "python",
   "pygments_lexer": "ipython3",
   "version": "3.12.4"
  }
 },
 "nbformat": 4,
 "nbformat_minor": 5
}
