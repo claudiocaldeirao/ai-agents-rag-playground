{
 "cells": [
  {
   "cell_type": "code",
   "execution_count": 3,
   "id": "c867e5b7",
   "metadata": {},
   "outputs": [],
   "source": [
    "from llama_index.core import Settings\n",
    "from llama_index.llms.groq import Groq"
   ]
  },
  {
   "cell_type": "code",
   "execution_count": 18,
   "id": "7d072702",
   "metadata": {},
   "outputs": [],
   "source": [
    "import os\n",
    "\n",
    "llm = Groq(\n",
    "    model=\"llama-3.3-70b-versatile\",\n",
    "    api_key=os.environ.get(\"GROQ_API_KEY\")    \n",
    ")"
   ]
  },
  {
   "cell_type": "code",
   "execution_count": 4,
   "id": "785e9e00",
   "metadata": {},
   "outputs": [],
   "source": [
    "def compute_income_taxes(rendimento: float) -> str:\n",
    "    if rendimento <= 2000:\n",
    "        return \"Você está isento de pagar o imposto de renda\"\n",
    "    elif 2000 < rendimento <= 5000:\n",
    "        imposto = (rendimento - 2000) * 0.10\n",
    "        return f\"O imposto devido é de R${imposto:.2f}, base em um rendimento de R${rendimento:.2f}\"\n",
    "    elif 5000 < rendimento <= 10000:\n",
    "        imposto = (rendimento - 5000) * 0.15 + 300\n",
    "        return f\"O imposto devido é de R${imposto:.2f}, base em um rendimento de R${rendimento:.2f}\"\n",
    "    else:\n",
    "        imposto = (rendimento - 10000) * 0.20 + 1050\n",
    "        return f\"O imposto devido é de R${imposto:.2f}, base em um rendimento de R${rendimento:.2f}\""
   ]
  },
  {
   "cell_type": "markdown",
   "id": "84fbb76b",
   "metadata": {},
   "source": [
    "### Convertendo função em ferramenta"
   ]
  },
  {
   "cell_type": "code",
   "execution_count": 21,
   "id": "22133293",
   "metadata": {},
   "outputs": [],
   "source": [
    "from llama_index.core.tools import FunctionTool"
   ]
  },
  {
   "cell_type": "code",
   "execution_count": 22,
   "id": "77e79f3c",
   "metadata": {},
   "outputs": [],
   "source": [
    "income_taxes_tool = FunctionTool.from_defaults(\n",
    "    fn=compute_income_taxes,\n",
    "    name=\"Calcular imposto de Renda\",\n",
    "    description=(\n",
    "        \"Calcula o imposto de renda com base no rendimento anual.\"\n",
    "        \"Argumento: rendimento (float)\"\n",
    "        \"Retorna o valor do imposto devido de acordo com as faixas de rendimento\"\n",
    "    )\n",
    ")"
   ]
  },
  {
   "cell_type": "code",
   "execution_count": 23,
   "id": "26e2e6c4",
   "metadata": {},
   "outputs": [],
   "source": [
    "from llama_index.core.agent import FunctionCallingAgentWorker"
   ]
  },
  {
   "cell_type": "code",
   "execution_count": 24,
   "id": "eaac7a4c",
   "metadata": {},
   "outputs": [],
   "source": [
    "income_taxes_agent_worker = FunctionCallingAgentWorker.from_tools(\n",
    "    tools=[income_taxes_tool],\n",
    "    verbose=True,\n",
    "    allow_parallel_tool_calls=True,\n",
    "    llm=llm\n",
    ")"
   ]
  },
  {
   "cell_type": "code",
   "execution_count": 11,
   "id": "056f8945",
   "metadata": {},
   "outputs": [],
   "source": [
    "from llama_index.core.agent import AgentRunner"
   ]
  },
  {
   "cell_type": "code",
   "execution_count": 25,
   "id": "edfe6cb0",
   "metadata": {},
   "outputs": [],
   "source": [
    "income_taxes_agent = AgentRunner(income_taxes_agent_worker)"
   ]
  },
  {
   "cell_type": "code",
   "execution_count": null,
   "id": "8222cc5e",
   "metadata": {},
   "outputs": [
    {
     "name": "stdout",
     "output_type": "stream",
     "text": [
      "Added user message to memory: Qual é o imposto de renda devido por uma pessoa com rendimento anual de R$7.500?\n"
     ]
    }
   ],
   "source": [
    "response = income_taxes_agent.chat(\n",
    "    \"Qual é o imposto de renda devido por uma pessoa com rendimento anual de R$7.500?\"\n",
    ")"
   ]
  }
 ],
 "metadata": {
  "kernelspec": {
   "display_name": "venv",
   "language": "python",
   "name": "python3"
  },
  "language_info": {
   "codemirror_mode": {
    "name": "ipython",
    "version": 3
   },
   "file_extension": ".py",
   "mimetype": "text/x-python",
   "name": "python",
   "nbconvert_exporter": "python",
   "pygments_lexer": "ipython3",
   "version": "3.12.4"
  }
 },
 "nbformat": 4,
 "nbformat_minor": 5
}
